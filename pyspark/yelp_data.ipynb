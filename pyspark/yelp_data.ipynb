{
 "cells": [
  {
   "cell_type": "code",
   "execution_count": 31,
   "metadata": {
    "collapsed": true,
    "deletable": true,
    "editable": true
   },
   "outputs": [],
   "source": [
    "%matplotlib inline"
   ]
  },
  {
   "cell_type": "code",
   "execution_count": 1,
   "metadata": {
    "collapsed": false,
    "deletable": true,
    "editable": true
   },
   "outputs": [
    {
     "name": "stderr",
     "output_type": "stream",
     "text": [
      "/usr/local/software/anaconda/lib/python2.7/site-packages/pandas/computation/__init__.py:19: UserWarning: The installed version of numexpr 2.4.4 is not supported in pandas and will be not be used\n",
      "\n",
      "  UserWarning)\n"
     ]
    }
   ],
   "source": [
    "import numpy as np\n",
    "import pandas as pd\n",
    "import matplotlib as mpl\n",
    "import matplotlib.pyplot as plt\n",
    "from pyspark.sql import SQLContext\n",
    "import json\n",
    "sqlContext = SQLContext(sc)"
   ]
  },
  {
   "cell_type": "code",
   "execution_count": 2,
   "metadata": {
    "collapsed": true,
    "deletable": true,
    "editable": true
   },
   "outputs": [],
   "source": [
    "from pyspark.sql import SparkSession\n",
    "\n",
    "spark = SparkSession \\\n",
    "    .builder \\\n",
    "    .appName(\"Python Spark SQL basic example\") \\\n",
    "    .getOrCreate()"
   ]
  },
  {
   "cell_type": "code",
   "execution_count": 2,
   "metadata": {
    "collapsed": false,
    "deletable": true,
    "editable": true
   },
   "outputs": [
    {
     "data": {
      "text/plain": [
       "Row(_corrupt_record=None, business_id=u'vcNAWiLM4dR7D2nwwJ7nCA', date=u'2007-05-17', review_id=u'15SdjuK7DmYqUAj6rjGowg', stars=5, text=u\"dr. goldberg offers everything i look for in a general practitioner.  he's nice and easy to talk to without being patronizing; he's always on time in seeing his patients; he's affiliated with a top-notch hospital (nyu) which my parents have explained to me is very important in case something happens and you need surgery; and you can get referrals to see specialists without having to see him first.  really, what more do you need?  i'm sitting here trying to think of any complaints i have about him, but i'm really drawing a blank.\", type=u'review', user_id=u'Xqd0DzHaiyRqVH3WRG7hzg', votes=Row(cool=1, funny=0, useful=2))"
      ]
     },
     "execution_count": 2,
     "metadata": {},
     "output_type": "execute_result"
    }
   ],
   "source": [
    "reviews_file = '/homes/jiaweihe/others/spark-1.5.2-bin-hadoop2.6/data/yelp_dataset_challenge_academic_dataset/yelp_academic_dataset_review.json'\n",
    "reviews = sqlContext.read.json(reviews_file)\n",
    "reviews.first()"
   ]
  },
  {
   "cell_type": "code",
   "execution_count": null,
   "metadata": {
    "collapsed": true,
    "deletable": true,
    "editable": true
   },
   "outputs": [],
   "source": [
    "business_file = '/homes/jiaweihe/others/spark-1.5.2-bin-hadoop2.6/data/yelp_dataset_challenge_academic_dataset/yelp_academic_dataset_business.json'\n",
    "business_text = sc.textFile(business_file)\n",
    "business_json = business_text.map(lambda x: json.loads(x))\n",
    "categories_count = business_json.flatMap(lambda x: x['categories']).map(lambda x: (str(x),1)).reduceByKey(lambda x,y: x+y)\n",
    "categories_count_sorted = categories_count.sortBy(lambda x: x[1], ascending=False)\n",
    "categories_counted = pd.DataFrame(categories_count_sorted.collect(), columns=[\"category\", \"frequency\"])\n",
    "fig, ax = plt.subplots(nrows=1, ncols=1, figsize=(12,8));\n",
    "categories_counted['frequency'][:30].plot(kind=\"bar\")\n",
    "ax.set_xticklabels(categories_counted['category'][:30]);"
   ]
  },
  {
   "cell_type": "code",
   "execution_count": 3,
   "metadata": {
    "collapsed": false,
    "deletable": true,
    "editable": true
   },
   "outputs": [
    {
     "data": {
      "text/plain": [
       "Row(attributes=Row(Accepts Credit Cards=None, Accepts Insurance=None, Ages Allowed=None, Alcohol=None, Ambience=None, Attire=None, BYOB=None, BYOB/Corkage=None, By Appointment Only=True, Caters=None, Coat Check=None, Corkage=None, Delivery=None, Dietary Restrictions=None, Dogs Allowed=None, Drive-Thru=None, Good For=None, Good For Dancing=None, Good For Groups=None, Good For Kids=None, Good for Kids=None, Hair Types Specialized In=None, Happy Hour=None, Has TV=None, Music=None, Noise Level=None, Open 24 Hours=None, Order at Counter=None, Outdoor Seating=None, Parking=None, Payment Types=None, Price Range=None, Smoking=None, Take-out=None, Takes Reservations=None, Waiter Service=None, Wheelchair Accessible=None, Wi-Fi=None), business_id=u'vcNAWiLM4dR7D2nwwJ7nCA', categories=[u'Doctors', u'Health & Medical'], city=u'Phoenix', full_address=u'4840 E Indian School Rd\\nSte 101\\nPhoenix, AZ 85018', hours=Row(Friday=Row(close=u'17:00', open=u'08:00'), Monday=Row(close=u'17:00', open=u'08:00'), Saturday=None, Sunday=None, Thursday=Row(close=u'17:00', open=u'08:00'), Tuesday=Row(close=u'17:00', open=u'08:00'), Wednesday=Row(close=u'17:00', open=u'08:00')), latitude=33.499313, longitude=-111.983758, name=u'Eric Goldberg, MD', neighborhoods=[], open=True, review_count=9, stars=3.5, state=u'AZ', type=u'business')"
      ]
     },
     "execution_count": 3,
     "metadata": {},
     "output_type": "execute_result"
    }
   ],
   "source": [
    "business_file = '/homes/jiaweihe/others/spark-1.5.2-bin-hadoop2.6/data/yelp_dataset_challenge_academic_dataset/yelp_academic_dataset_business.json'\n",
    "business = sqlContext.read.json(business_file)\n",
    "business.first()"
   ]
  },
  {
   "cell_type": "code",
   "execution_count": 5,
   "metadata": {
    "collapsed": false,
    "deletable": true,
    "editable": true
   },
   "outputs": [
    {
     "data": {
      "text/plain": [
       "u'{\"business_id\": \"vcNAWiLM4dR7D2nwwJ7nCA\", \"full_address\": \"4840 E Indian School Rd\\\\nSte 101\\\\nPhoenix, AZ 85018\", \"hours\": {\"Tuesday\": {\"close\": \"17:00\", \"open\": \"08:00\"}, \"Friday\": {\"close\": \"17:00\", \"open\": \"08:00\"}, \"Monday\": {\"close\": \"17:00\", \"open\": \"08:00\"}, \"Wednesday\": {\"close\": \"17:00\", \"open\": \"08:00\"}, \"Thursday\": {\"close\": \"17:00\", \"open\": \"08:00\"}}, \"open\": true, \"categories\": [\"Doctors\", \"Health & Medical\"], \"city\": \"Phoenix\", \"review_count\": 9, \"name\": \"Eric Goldberg, MD\", \"neighborhoods\": [], \"longitude\": -111.98375799999999, \"state\": \"AZ\", \"stars\": 3.5, \"latitude\": 33.499313000000001, \"attributes\": {\"By Appointment Only\": true}, \"type\": \"business\"}'"
      ]
     },
     "execution_count": 5,
     "metadata": {},
     "output_type": "execute_result"
    }
   ],
   "source": [
    "business_file = '/homes/jiaweihe/others/spark-1.5.2-bin-hadoop2.6/data/yelp_dataset_challenge_academic_dataset/yelp_academic_dataset_business.json'\n",
    "business_text = sc.textFile(business_file)\n",
    "business_text.first()"
   ]
  },
  {
   "cell_type": "code",
   "execution_count": 3,
   "metadata": {
    "collapsed": true,
    "deletable": true,
    "editable": true
   },
   "outputs": [],
   "source": [
    "import json"
   ]
  },
  {
   "cell_type": "code",
   "execution_count": 6,
   "metadata": {
    "collapsed": false,
    "deletable": true,
    "editable": true
   },
   "outputs": [],
   "source": [
    "business_json = business_text.map(lambda x: json.loads(x))"
   ]
  },
  {
   "cell_type": "code",
   "execution_count": 7,
   "metadata": {
    "collapsed": false,
    "deletable": true,
    "editable": true
   },
   "outputs": [
    {
     "data": {
      "text/plain": [
       "{u'attributes': {u'By Appointment Only': True},\n",
       " u'business_id': u'vcNAWiLM4dR7D2nwwJ7nCA',\n",
       " u'categories': [u'Doctors', u'Health & Medical'],\n",
       " u'city': u'Phoenix',\n",
       " u'full_address': u'4840 E Indian School Rd\\nSte 101\\nPhoenix, AZ 85018',\n",
       " u'hours': {u'Friday': {u'close': u'17:00', u'open': u'08:00'},\n",
       "  u'Monday': {u'close': u'17:00', u'open': u'08:00'},\n",
       "  u'Thursday': {u'close': u'17:00', u'open': u'08:00'},\n",
       "  u'Tuesday': {u'close': u'17:00', u'open': u'08:00'},\n",
       "  u'Wednesday': {u'close': u'17:00', u'open': u'08:00'}},\n",
       " u'latitude': 33.499313,\n",
       " u'longitude': -111.983758,\n",
       " u'name': u'Eric Goldberg, MD',\n",
       " u'neighborhoods': [],\n",
       " u'open': True,\n",
       " u'review_count': 9,\n",
       " u'stars': 3.5,\n",
       " u'state': u'AZ',\n",
       " u'type': u'business'}"
      ]
     },
     "execution_count": 7,
     "metadata": {},
     "output_type": "execute_result"
    }
   ],
   "source": [
    "business_json.first()"
   ]
  },
  {
   "cell_type": "code",
   "execution_count": 8,
   "metadata": {
    "collapsed": false,
    "deletable": true,
    "editable": true
   },
   "outputs": [],
   "source": [
    "categories_count = business_json.flatMap(lambda x: x['categories']).map(lambda x: (str(x),1)).reduceByKey(lambda x,y: x+y)"
   ]
  },
  {
   "cell_type": "code",
   "execution_count": 9,
   "metadata": {
    "collapsed": false,
    "deletable": true,
    "editable": true
   },
   "outputs": [
    {
     "data": {
      "text/plain": [
       "[('Drugstores', 561),\n",
       " ('Buffets', 420),\n",
       " ('Endodontists', 26),\n",
       " ('Canadian (New)', 183),\n",
       " ('Teppanyaki', 2)]"
      ]
     },
     "execution_count": 9,
     "metadata": {},
     "output_type": "execute_result"
    }
   ],
   "source": [
    "categories_count.take(5)"
   ]
  },
  {
   "cell_type": "code",
   "execution_count": 10,
   "metadata": {
    "collapsed": true,
    "deletable": true,
    "editable": true
   },
   "outputs": [],
   "source": [
    "categories_count_sorted = categories_count.sortBy(lambda x: x[1], ascending=False)"
   ]
  },
  {
   "cell_type": "code",
   "execution_count": 11,
   "metadata": {
    "collapsed": false,
    "deletable": true,
    "editable": true
   },
   "outputs": [
    {
     "data": {
      "text/plain": [
       "[('Restaurants', 21892),\n",
       " ('Shopping', 8919),\n",
       " ('Food', 7862),\n",
       " ('Beauty & Spas', 4738),\n",
       " ('Nightlife', 4340),\n",
       " ('Bars', 3628),\n",
       " ('Health & Medical', 3213),\n",
       " ('Automotive', 2965),\n",
       " ('Home Services', 2853),\n",
       " ('Fashion', 2566)]"
      ]
     },
     "execution_count": 11,
     "metadata": {},
     "output_type": "execute_result"
    }
   ],
   "source": [
    "categories_count_sorted.take(10)"
   ]
  },
  {
   "cell_type": "code",
   "execution_count": 12,
   "metadata": {
    "collapsed": false,
    "deletable": true,
    "editable": true
   },
   "outputs": [
    {
     "data": {
      "text/html": [
       "<div>\n",
       "<table border=\"1\" class=\"dataframe\">\n",
       "  <thead>\n",
       "    <tr style=\"text-align: right;\">\n",
       "      <th></th>\n",
       "      <th>category</th>\n",
       "      <th>counts</th>\n",
       "    </tr>\n",
       "  </thead>\n",
       "  <tbody>\n",
       "    <tr>\n",
       "      <th>0</th>\n",
       "      <td>Restaurants</td>\n",
       "      <td>21892</td>\n",
       "    </tr>\n",
       "    <tr>\n",
       "      <th>1</th>\n",
       "      <td>Shopping</td>\n",
       "      <td>8919</td>\n",
       "    </tr>\n",
       "    <tr>\n",
       "      <th>2</th>\n",
       "      <td>Food</td>\n",
       "      <td>7862</td>\n",
       "    </tr>\n",
       "    <tr>\n",
       "      <th>3</th>\n",
       "      <td>Beauty &amp; Spas</td>\n",
       "      <td>4738</td>\n",
       "    </tr>\n",
       "    <tr>\n",
       "      <th>4</th>\n",
       "      <td>Nightlife</td>\n",
       "      <td>4340</td>\n",
       "    </tr>\n",
       "    <tr>\n",
       "      <th>5</th>\n",
       "      <td>Bars</td>\n",
       "      <td>3628</td>\n",
       "    </tr>\n",
       "    <tr>\n",
       "      <th>6</th>\n",
       "      <td>Health &amp; Medical</td>\n",
       "      <td>3213</td>\n",
       "    </tr>\n",
       "    <tr>\n",
       "      <th>7</th>\n",
       "      <td>Automotive</td>\n",
       "      <td>2965</td>\n",
       "    </tr>\n",
       "    <tr>\n",
       "      <th>8</th>\n",
       "      <td>Home Services</td>\n",
       "      <td>2853</td>\n",
       "    </tr>\n",
       "    <tr>\n",
       "      <th>9</th>\n",
       "      <td>Fashion</td>\n",
       "      <td>2566</td>\n",
       "    </tr>\n",
       "  </tbody>\n",
       "</table>\n",
       "</div>"
      ],
      "text/plain": [
       "           category  counts\n",
       "0       Restaurants   21892\n",
       "1          Shopping    8919\n",
       "2              Food    7862\n",
       "3     Beauty & Spas    4738\n",
       "4         Nightlife    4340\n",
       "5              Bars    3628\n",
       "6  Health & Medical    3213\n",
       "7        Automotive    2965\n",
       "8     Home Services    2853\n",
       "9           Fashion    2566"
      ]
     },
     "execution_count": 12,
     "metadata": {},
     "output_type": "execute_result"
    }
   ],
   "source": [
    "import pandas as pd\n",
    "categories_counted = pd.DataFrame(categories_count_sorted.collect(), columns=[\"category\", \"counts\"])\n",
    "categories_counted[:10]"
   ]
  },
  {
   "cell_type": "code",
   "execution_count": 13,
   "metadata": {
    "collapsed": false,
    "deletable": true,
    "editable": true
   },
   "outputs": [
    {
     "data": {
      "text/html": [
       "<div>\n",
       "<table border=\"1\" class=\"dataframe\">\n",
       "  <thead>\n",
       "    <tr style=\"text-align: right;\">\n",
       "      <th></th>\n",
       "      <th>category</th>\n",
       "      <th>counts</th>\n",
       "    </tr>\n",
       "  </thead>\n",
       "  <tbody>\n",
       "    <tr>\n",
       "      <th>0</th>\n",
       "      <td>Restaurants</td>\n",
       "      <td>21892</td>\n",
       "    </tr>\n",
       "    <tr>\n",
       "      <th>1</th>\n",
       "      <td>Shopping</td>\n",
       "      <td>8919</td>\n",
       "    </tr>\n",
       "    <tr>\n",
       "      <th>2</th>\n",
       "      <td>Food</td>\n",
       "      <td>7862</td>\n",
       "    </tr>\n",
       "    <tr>\n",
       "      <th>3</th>\n",
       "      <td>Beauty &amp; Spas</td>\n",
       "      <td>4738</td>\n",
       "    </tr>\n",
       "    <tr>\n",
       "      <th>4</th>\n",
       "      <td>Nightlife</td>\n",
       "      <td>4340</td>\n",
       "    </tr>\n",
       "    <tr>\n",
       "      <th>5</th>\n",
       "      <td>Bars</td>\n",
       "      <td>3628</td>\n",
       "    </tr>\n",
       "    <tr>\n",
       "      <th>6</th>\n",
       "      <td>Health &amp; Medical</td>\n",
       "      <td>3213</td>\n",
       "    </tr>\n",
       "    <tr>\n",
       "      <th>7</th>\n",
       "      <td>Automotive</td>\n",
       "      <td>2965</td>\n",
       "    </tr>\n",
       "    <tr>\n",
       "      <th>8</th>\n",
       "      <td>Home Services</td>\n",
       "      <td>2853</td>\n",
       "    </tr>\n",
       "    <tr>\n",
       "      <th>9</th>\n",
       "      <td>Fashion</td>\n",
       "      <td>2566</td>\n",
       "    </tr>\n",
       "    <tr>\n",
       "      <th>10</th>\n",
       "      <td>Active Life</td>\n",
       "      <td>2470</td>\n",
       "    </tr>\n",
       "    <tr>\n",
       "      <th>11</th>\n",
       "      <td>Event Planning &amp; Services</td>\n",
       "      <td>2467</td>\n",
       "    </tr>\n",
       "    <tr>\n",
       "      <th>12</th>\n",
       "      <td>Fast Food</td>\n",
       "      <td>2383</td>\n",
       "    </tr>\n",
       "    <tr>\n",
       "      <th>13</th>\n",
       "      <td>Pizza</td>\n",
       "      <td>2223</td>\n",
       "    </tr>\n",
       "    <tr>\n",
       "      <th>14</th>\n",
       "      <td>Mexican</td>\n",
       "      <td>2208</td>\n",
       "    </tr>\n",
       "    <tr>\n",
       "      <th>15</th>\n",
       "      <td>Local Services</td>\n",
       "      <td>2144</td>\n",
       "    </tr>\n",
       "    <tr>\n",
       "      <th>16</th>\n",
       "      <td>Hotels &amp; Travel</td>\n",
       "      <td>2131</td>\n",
       "    </tr>\n",
       "    <tr>\n",
       "      <th>17</th>\n",
       "      <td>American (Traditional)</td>\n",
       "      <td>2113</td>\n",
       "    </tr>\n",
       "    <tr>\n",
       "      <th>18</th>\n",
       "      <td>Sandwiches</td>\n",
       "      <td>1981</td>\n",
       "    </tr>\n",
       "    <tr>\n",
       "      <th>19</th>\n",
       "      <td>Arts &amp; Entertainment</td>\n",
       "      <td>1946</td>\n",
       "    </tr>\n",
       "  </tbody>\n",
       "</table>\n",
       "</div>"
      ],
      "text/plain": [
       "                     category  counts\n",
       "0                 Restaurants   21892\n",
       "1                    Shopping    8919\n",
       "2                        Food    7862\n",
       "3               Beauty & Spas    4738\n",
       "4                   Nightlife    4340\n",
       "5                        Bars    3628\n",
       "6            Health & Medical    3213\n",
       "7                  Automotive    2965\n",
       "8               Home Services    2853\n",
       "9                     Fashion    2566\n",
       "10                Active Life    2470\n",
       "11  Event Planning & Services    2467\n",
       "12                  Fast Food    2383\n",
       "13                      Pizza    2223\n",
       "14                    Mexican    2208\n",
       "15             Local Services    2144\n",
       "16            Hotels & Travel    2131\n",
       "17     American (Traditional)    2113\n",
       "18                 Sandwiches    1981\n",
       "19       Arts & Entertainment    1946"
      ]
     },
     "execution_count": 13,
     "metadata": {},
     "output_type": "execute_result"
    }
   ],
   "source": [
    "categories_counted[:20]"
   ]
  },
  {
   "cell_type": "code",
   "execution_count": 15,
   "metadata": {
    "collapsed": true,
    "deletable": true,
    "editable": true
   },
   "outputs": [],
   "source": [
    "import matplotlib.pyplot as plt"
   ]
  },
  {
   "cell_type": "code",
   "execution_count": 19,
   "metadata": {
    "collapsed": false,
    "deletable": true,
    "editable": true
   },
   "outputs": [
    {
     "data": {
      "image/png": "[encoded data removed]",
      "text/plain": [
       "<matplotlib.figure.Figure at 0x2b53217c0250>"
      ]
     },
     "metadata": {},
     "output_type": "display_data"
    }
   ],
   "source": [
    "fig, ax = plt.subplots(nrows=1, ncols=1, figsize=(12,8));\n",
    "categories_counted['counts'][:30].plot(kind=\"bar\")\n",
    "ax.set_xticklabels(categories_counted['category'][:30]);"
   ]
  },
  {
   "cell_type": "code",
   "execution_count": null,
   "metadata": {
    "collapsed": true,
    "deletable": true,
    "editable": true
   },
   "outputs": [],
   "source": []
  },
  {
   "cell_type": "code",
   "execution_count": null,
   "metadata": {
    "collapsed": false,
    "deletable": true,
    "editable": true
   },
   "outputs": [],
   "source": []
  }
 ],
 "metadata": {
  "kernelspec": {
   "display_name": "Python 2",
   "language": "python",
   "name": "python2"
  },
  "language_info": {
   "codemirror_mode": {
    "name": "ipython",
    "version": 2
   },
   "file_extension": ".py",
   "mimetype": "text/x-python",
   "name": "python",
   "nbconvert_exporter": "python",
   "pygments_lexer": "ipython2",
   "version": "2.7.13"
  }
 },
 "nbformat": 4,
 "nbformat_minor": 0
}
